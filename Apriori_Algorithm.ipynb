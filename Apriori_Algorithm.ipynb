{
  "cells": [
    {
      "cell_type": "code",
      "execution_count": 38,
      "metadata": {
        "id": "1zYm0G7DPT2k"
      },
      "outputs": [],
      "source": [
        "class pattern:\n",
        "    def __init__(self, iset, s):\n",
        "        self.itemset = iset.copy()  # Ensure a proper copy of the list\n",
        "        self.support = s"
      ]
    },
    {
      "cell_type": "code",
      "execution_count": 39,
      "metadata": {
        "id": "WJkMtN8FG50k"
      },
      "outputs": [],
      "source": [
        "# Change this path to the path where your dataset is located\n",
        "path = \"C:/Users/ASUS/Desktop/Jamai/Data/101.txt\"\n",
        "\n",
        "# Read the file into memory\n",
        "with open(path, \"r\") as fptr:\n",
        "    lines = fptr.readlines()"
      ]
    },
    {
      "cell_type": "code",
      "execution_count": 40,
      "metadata": {
        "id": "9cvyWMAnHEvQ"
      },
      "outputs": [],
      "source": [
        "C = [[]]\n",
        "L = [[]]\n",
        "itemlist = []\n",
        "n = 0"
      ]
    },
    {
      "cell_type": "code",
      "execution_count": 41,
      "metadata": {
        "id": "yegyMN24HVjy"
      },
      "outputs": [],
      "source": [
        "for line in lines:\n",
        "    n += 1\n",
        "    token = line.split()\n",
        "    token.sort()\n",
        "    #print(f\"Line {n}: {line.strip()}\")\n",
        "    #print(f\"Tokens: {token}\")\n",
        "\n",
        "    for item in token:\n",
        "        temp = pattern([item], 1)\n",
        "        flag = False\n",
        "\n",
        "        for j in range(len(C[0])):\n",
        "            if C[0][j].itemset == temp.itemset:\n",
        "                C[0][j].support += 1\n",
        "                flag = True\n",
        "                break\n",
        "\n",
        "        if not flag:\n",
        "            C[0].append(temp)"
      ]
    },
    {
      "cell_type": "code",
      "execution_count": 42,
      "metadata": {
        "id": "paq0LNNXAbRR"
      },
      "outputs": [],
      "source": [
        "min_support = n * 50 / 100\n",
        "\n",
        "for i in range(len(C[0])):\n",
        "    if C[0][i].support >= min_support:\n",
        "        L[0].append(C[0][i])"
      ]
    },
    {
      "cell_type": "code",
      "execution_count": 43,
      "metadata": {
        "id": "YXtsDx9BfcGb"
      },
      "outputs": [
        {
          "name": "stdout",
          "output_type": "stream",
          "text": [
            "Candidate\n",
            "Itemset: ['1'] Support: 5\n",
            "Itemset: ['2'] Support: 5\n",
            "Itemset: ['3'] Support: 2\n",
            "Itemset: ['4'] Support: 4\n",
            "Itemset: ['7'] Support: 2\n",
            "Itemset: ['8'] Support: 3\n",
            "Itemset: ['5'] Support: 3\n",
            "Itemset: ['6'] Support: 2\n",
            "Frequent\n",
            "Itemset: ['1'] Support: 5\n",
            "Itemset: ['2'] Support: 5\n",
            "Itemset: ['4'] Support: 4\n",
            "Itemset: ['8'] Support: 3\n",
            "Itemset: ['5'] Support: 3\n"
          ]
        }
      ],
      "source": [
        "print(\"Candidate\")\n",
        "for j in range(len(C[0])):\n",
        "    print(f\"Itemset: {C[0][j].itemset} Support: {C[0][j].support}\")\n",
        "\n",
        "print(\"Frequent\")\n",
        "for j in range(len(L[0])):\n",
        "    print(f\"Itemset: {L[0][j].itemset} Support: {L[0][j].support}\")\n"
      ]
    },
    {
      "cell_type": "code",
      "execution_count": 44,
      "metadata": {
        "id": "CP0R7Vbfes6A"
      },
      "outputs": [],
      "source": [
        "def joinable(itemset1, itemset2):\n",
        "    return itemset1[:-1] == itemset2[:-1]  # Joinable if first k-1 items are the same\n",
        "\n"
      ]
    },
    {
      "cell_type": "code",
      "execution_count": 45,
      "metadata": {
        "id": "shYdAbZrhpfI"
      },
      "outputs": [],
      "source": [
        "\n",
        "def downward_closure(itemset, Lk_minus_1):\n",
        "    subsets = [itemset[:i] + itemset[i+1:] for i in range(len(itemset))]\n",
        "    for subset in subsets:\n",
        "        if subset not in [p.itemset for p in Lk_minus_1]:\n",
        "            return False\n",
        "    return True"
      ]
    },
    {
      "cell_type": "code",
      "execution_count": 46,
      "metadata": {
        "id": "xPhIzfDJaoMD"
      },
      "outputs": [],
      "source": [
        "k = 1\n",
        "while True:\n",
        "    C.append([])\n",
        "    for i in range(len(L[k - 1])):\n",
        "        for j in range(i + 1, len(L[k - 1])):\n",
        "            itemset1 = L[k - 1][i].itemset\n",
        "            itemset2 = L[k - 1][j].itemset\n",
        "\n",
        "            if joinable(itemset1, itemset2):\n",
        "                new_candidate = sorted(list(set(itemset1) | set(itemset2)))\n",
        "\n",
        "                if downward_closure(new_candidate, L[k - 1]):\n",
        "                    temp = pattern(new_candidate, 0)\n",
        "                    C[k].append(temp)\n",
        "\n",
        "    if len(C[k]) == 0:\n",
        "        break\n",
        "\n",
        "    for line in lines:\n",
        "        token = line.split()\n",
        "        token.sort()\n",
        "        transaction_set = set(token)\n",
        "\n",
        "        for i in range(len(C[k])):\n",
        "            if set(C[k][i].itemset).issubset(transaction_set):\n",
        "                C[k][i].support += 1\n",
        "\n",
        "    L.append([])\n",
        "    for i in range(len(C[k])):\n",
        "        if C[k][i].support >= min_support:\n",
        "            L[k].append(C[k][i])\n",
        "\n",
        "    k += 1\n"
      ]
    },
    {
      "cell_type": "code",
      "execution_count": 47,
      "metadata": {
        "id": "IuP21llV78xV"
      },
      "outputs": [
        {
          "name": "stdout",
          "output_type": "stream",
          "text": [
            "3\n"
          ]
        }
      ],
      "source": [
        "print(len(L))"
      ]
    },
    {
      "cell_type": "code",
      "execution_count": 48,
      "metadata": {
        "id": "YIx65Sui8iKV"
      },
      "outputs": [
        {
          "name": "stdout",
          "output_type": "stream",
          "text": [
            "L1:\n",
            "\tItemset: ['1'] Support: 5\n",
            "\tItemset: ['2'] Support: 5\n",
            "\tItemset: ['4'] Support: 4\n",
            "\tItemset: ['8'] Support: 3\n",
            "\tItemset: ['5'] Support: 3\n",
            "L2:\n",
            "\tItemset: ['1', '2'] Support: 4\n",
            "\tItemset: ['1', '4'] Support: 4\n",
            "\tItemset: ['2', '4'] Support: 4\n",
            "\tItemset: ['2', '8'] Support: 3\n",
            "L3:\n",
            "\tItemset: ['1', '2', '4'] Support: 4\n"
          ]
        }
      ],
      "source": [
        "for i in range(len(L)):\n",
        "    print(f\"L{i+1}:\")\n",
        "    for item in L[i]:\n",
        "        print(f\"\\tItemset: {item.itemset} Support: {item.support}\")\n"
      ]
    }
  ],
  "metadata": {
    "colab": {
      "provenance": []
    },
    "kernelspec": {
      "display_name": "Python 3",
      "name": "python3"
    },
    "language_info": {
      "codemirror_mode": {
        "name": "ipython",
        "version": 3
      },
      "file_extension": ".py",
      "mimetype": "text/x-python",
      "name": "python",
      "nbconvert_exporter": "python",
      "pygments_lexer": "ipython3",
      "version": "3.12.3"
    }
  },
  "nbformat": 4,
  "nbformat_minor": 0
}
